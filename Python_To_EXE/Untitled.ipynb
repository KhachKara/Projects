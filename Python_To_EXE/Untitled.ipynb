{
 "cells": [
  {
   "cell_type": "code",
   "execution_count": 1,
   "metadata": {},
   "outputs": [],
   "source": [
    "__version__ = 'Version:1.0'\n",
    "from tkinter import *\n",
    "from tkinter import filedialog as fd\n",
    "\n",
    "root = Tk()\n",
    "root.title(\"Textedit  \" +str(__version__))\n",
    "root.resizable(width=False, height=False)\n",
    "root.geometry(\"420x300+300+300\")\n",
    "calculated_text = Text(root,height=15, width=50)\n",
    "\n",
    "def insertText():\n",
    "    file_name = fd.askopenfilename()\n",
    "    f = open(file_name)\n",
    "    s = f.read()\n",
    "    calculated_text.insert(1.0, s)\n",
    "    f.close()\n",
    "\n",
    "def extractText():\n",
    "    file_name = fd.asksaveasfilename(filetypes=((\"TXT files\", \"*.txt\"),\n",
    "                                        (\"HTML files\", \"*.html;*.htm\"),\n",
    "                                                (\"All files\", \"*.*\") ))\n",
    "    f = open(file_name, 'w')\n",
    "    s = calculated_text.get(1.0, END)\n",
    "    f.write(s)\n",
    "    f.close()   \n",
    "    \n",
    "def erase():   \n",
    "    calculated_text.delete('1.0', END)\n",
    "\n",
    "b1 = Button(text=\"Открыть\",command=insertText)\n",
    "b1.grid(row=3, column=0, sticky=E, padx=5, pady=8,)\n",
    "b2 = Button(text=\"Сохранить\", command=extractText)\n",
    "b2.grid(row=3, column=1, sticky=E, padx=5, pady=8,)\n",
    "erase_button = Button(text=\"Очистить\", command=erase)\n",
    "erase_button.grid(row=3, column=2, padx=35, pady=8, sticky=\"W\")\n",
    "\n",
    "scrollb = Scrollbar(root, command=calculated_text.yview)\n",
    "scrollb.grid(row=4, column=4, sticky='nsew')\n",
    "calculated_text.grid(row=4, column=0, sticky='nsew', columnspan=3)\n",
    "calculated_text.configure(yscrollcommand=scrollb.set)\n",
    "\n",
    "root.mainloop()"
   ]
  },
  {
   "cell_type": "code",
   "execution_count": null,
   "metadata": {},
   "outputs": [],
   "source": []
  }
 ],
 "metadata": {
  "kernelspec": {
   "display_name": "Python 3",
   "language": "python",
   "name": "python3"
  },
  "language_info": {
   "codemirror_mode": {
    "name": "ipython",
    "version": 3
   },
   "file_extension": ".py",
   "mimetype": "text/x-python",
   "name": "python",
   "nbconvert_exporter": "python",
   "pygments_lexer": "ipython3",
   "version": "3.6.7"
  }
 },
 "nbformat": 4,
 "nbformat_minor": 2
}
