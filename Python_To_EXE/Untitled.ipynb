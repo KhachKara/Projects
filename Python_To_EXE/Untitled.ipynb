{
 "cells": [
  {
   "cell_type": "code",
   "execution_count": null,
   "metadata": {},
   "outputs": [],
   "source": [
    "from cx_Freeze import setup,Executable\n",
    "\n",
    "setup(name=\"Pandas\",\n",
    "      version =\"1.0\",\n",
    "      description = \"Pandas example\",\n",
    "      executables = [Executable(r\"Python_Pandas_Example.py\")]\n",
    "      )"
   ]
  }
 ],
 "metadata": {
  "kernelspec": {
   "display_name": "Python 3",
   "language": "python",
   "name": "python3"
  },
  "language_info": {
   "codemirror_mode": {
    "name": "ipython",
    "version": 3
   },
   "file_extension": ".py",
   "mimetype": "text/x-python",
   "name": "python",
   "nbconvert_exporter": "python",
   "pygments_lexer": "ipython3",
   "version": "3.6.7"
  }
 },
 "nbformat": 4,
 "nbformat_minor": 2
}
